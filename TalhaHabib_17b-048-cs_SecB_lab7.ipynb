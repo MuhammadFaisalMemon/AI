{
 "cells": [
  {
   "cell_type": "code",
   "execution_count": 101,
   "metadata": {},
   "outputs": [
    {
     "name": "stdout",
     "output_type": "stream",
     "text": [
      "     erythema  scaling  definite borders  itching  koebner phenomenon  \\\n",
      "0           2        2                 0        3                   0   \n",
      "1           3        3                 3        2                   1   \n",
      "2           2        1                 2        3                   1   \n",
      "3           2        2                 2        0                   0   \n",
      "4           2        3                 2        2                   2   \n",
      "..        ...      ...               ...      ...                 ...   \n",
      "361         2        1                 1        0                   1   \n",
      "362         3        2                 1        0                   1   \n",
      "363         3        2                 2        2                   3   \n",
      "364         2        1                 3        1                   2   \n",
      "365         3        2                 2        0                   0   \n",
      "\n",
      "     polygonal papules  follicular papules  oral mucosal involvement  \\\n",
      "0                    0                   0                         0   \n",
      "1                    0                   0                         0   \n",
      "2                    3                   0                         3   \n",
      "3                    0                   0                         0   \n",
      "4                    2                   0                         2   \n",
      "..                 ...                 ...                       ...   \n",
      "361                  0                   0                         0   \n",
      "362                  0                   0                         0   \n",
      "363                  2                   0                         2   \n",
      "364                  3                   0                         2   \n",
      "365                  0                   0                         0   \n",
      "\n",
      "     knee and elbow involvement  scalp involvement  ...  \\\n",
      "0                             1                  0  ...   \n",
      "1                             1                  1  ...   \n",
      "2                             0                  0  ...   \n",
      "3                             3                  2  ...   \n",
      "4                             0                  0  ...   \n",
      "..                          ...                ...  ...   \n",
      "361                           0                  0  ...   \n",
      "362                           0                  0  ...   \n",
      "363                           0                  0  ...   \n",
      "364                           0                  0  ...   \n",
      "365                           3                  3  ...   \n",
      "\n",
      "     disappearance of the granular layer  \\\n",
      "0                                      0   \n",
      "1                                      0   \n",
      "2                                      0   \n",
      "3                                      3   \n",
      "4                                      2   \n",
      "..                                   ...   \n",
      "361                                    0   \n",
      "362                                    1   \n",
      "363                                    0   \n",
      "364                                    0   \n",
      "365                                    2   \n",
      "\n",
      "     vacuolisation and damage of basal layer  spongiosis  \\\n",
      "0                                          0           3   \n",
      "1                                          0           0   \n",
      "2                                          2           3   \n",
      "3                                          0           0   \n",
      "4                                          3           2   \n",
      "..                                       ...         ...   \n",
      "361                                        0           1   \n",
      "362                                        0           1   \n",
      "363                                        3           0   \n",
      "364                                        2           0   \n",
      "365                                        0           0   \n",
      "\n",
      "     saw-tooth appearance of retes  follicular horn plug  \\\n",
      "0                                0                     0   \n",
      "1                                0                     0   \n",
      "2                                2                     0   \n",
      "3                                0                     0   \n",
      "4                                3                     0   \n",
      "..                             ...                   ...   \n",
      "361                              0                     0   \n",
      "362                              0                     0   \n",
      "363                              3                     0   \n",
      "364                              1                     0   \n",
      "365                              0                     0   \n",
      "\n",
      "     perifollicular parakeratosis  inflammatory monoluclear inflitrate  \\\n",
      "0                               0                                    1   \n",
      "1                               0                                    1   \n",
      "2                               0                                    2   \n",
      "3                               0                                    3   \n",
      "4                               0                                    2   \n",
      "..                            ...                                  ...   \n",
      "361                             0                                    2   \n",
      "362                             0                                    2   \n",
      "363                             0                                    2   \n",
      "364                             0                                    2   \n",
      "365                             0                                    3   \n",
      "\n",
      "     band-like infiltrate  Age  Type of disease  \n",
      "0                       0   55                2  \n",
      "1                       0    8                1  \n",
      "2                       3   26                3  \n",
      "3                       0   40                1  \n",
      "4                       3   45                3  \n",
      "..                    ...  ...              ...  \n",
      "361                     0   25                4  \n",
      "362                     0   36                4  \n",
      "363                     3   28                3  \n",
      "364                     3   50                3  \n",
      "365                     0   35                1  \n",
      "\n",
      "[366 rows x 35 columns]\n"
     ]
    }
   ],
   "source": [
    "import pandas as pd\n",
    "header=['erythema','scaling','definite borders','itching','koebner phenomenon','polygonal papules','follicular papules','oral mucosal involvement','knee and elbow involvement','scalp involvement','family history','melanin incontinence','eosinophils in the infiltrate','PNL infiltrate','fibrosis of the papillary dermis','exocytosis','acanthosis','hyperkeratosis','parakeratosis','clubbing of the rete ridges','elongation of the rete ridges','thinning of the suprapapillary epidermis','spongiform pustule','munro microabcess','focal hypergranulosis','disappearance of the granular layer','vacuolisation and damage of basal layer','spongiosis','saw-tooth appearance of retes','follicular horn plug','perifollicular parakeratosis','inflammatory monoluclear inflitrate','band-like infiltrate','Age','Type of disease']\n",
    "df = pd.read_csv('C:\\\\Users\\\\Talha Habib\\\\Downloads\\\\dermatology.data',header=None,names=header)\n",
    "print(df)"
   ]
  },
  {
   "cell_type": "code",
   "execution_count": 102,
   "metadata": {},
   "outputs": [
    {
     "name": "stdout",
     "output_type": "stream",
     "text": [
      "['55' '8' '26' '40' '45' '41' '18' '57' '22' '30' '20' '21' '22' '10' '65'\n",
      " '40' '30' '38' '23' '17' '8' '51' '42' '44' '22' '33' '10' '17' '43' '50'\n",
      " '50' '10' '34' '?' '?' '?' '?' '15' '26' '46' '51' '62' '15' '35' '30'\n",
      " '48' '46' '12' '52' '60' '32' '35' '41' '48' '51' '19' '22' '29' '25'\n",
      " '33' '8' '40' '33' '42' '36' '60' '36' '21' '40' '21' '34' '13' '52' '48'\n",
      " '17' '25' '33' '62' '52' '27' '40' '31' '27' '10' '55' '30' '42' '48'\n",
      " '22' '31' '50' '43' '30' '42' '22' '18' '35' '60' '28' '13' '20' '64'\n",
      " '43' '20' '34' '39' '60' '38' '44' '36' '41' '18' '39' '40' '47' '16'\n",
      " '27' '52' '25' '0' '33' '46' '7' '30' '29' '23' '8' '44' '17' '16' '55'\n",
      " '40' '34' '29' '34' '25' '70' '37' '41' '32' '20' '19' '61' '27' '36'\n",
      " '40' '52' '27' '30' '45' '34' '27' '46' '52' '28' '40' '55' '32' '33'\n",
      " '47' '35' '61' '22' '10' '20' '55' '67' '51' '20' '22' '45' '55' '56'\n",
      " '18' '40' '30' '33' '40' '42' '36' '27' '56' '60' '20' '7' '30' '19' '52'\n",
      " '55' '23' '50' '38' '25' '18' '35' '22' '52' '50' '33' '44' '18' '25'\n",
      " '52' '35' '40' '55' '20' '60' '33' '27' '50' '70' '28' '30' '53' '27'\n",
      " '50' '42' '45' '35' '30' '42' '18' '25' '36' '40' '35' '19' '50' '47'\n",
      " '30' '42' '55' '60' '65' '47' '35' '52' '60' '7' '8' '25' '60' '50' '33'\n",
      " '27' '55' '62' '19' '50' '40' '62' '36' '27' '47' '50' '35' '25' '60'\n",
      " '22' '35' '36' '?' '?' '?' '?' '10' '12' '8' '35' '62' '48' '30' '57'\n",
      " '62' '36' '18' '25' '16' '50' '55' '27' '55' '22' '70' '22' '45' '40'\n",
      " '28' '36' '27' '42' '27' '50' '34' '8' '19' '36' '70' '52' '25' '36' '50'\n",
      " '34' '17' '24' '22' '55' '12' '43' '50' '36' '26' '16' '32' '51' '56'\n",
      " '47' '51' '58' '27' '32' '27' '62' '53' '46' '37' '49' '18' '46' '33'\n",
      " '22' '44' '36' '63' '56' '60' '42' '32' '51' '33' '68' '50' '9' '16' '35'\n",
      " '40' '22' '10' '7' '25' '9' '55' '45' '56' '36' '75' '45' '24' '40' '25'\n",
      " '25' '36' '28' '50' '35']\n"
     ]
    }
   ],
   "source": [
    "y=df.iloc[:,33].values\n",
    "X=df.drop(['Type of disease','Age'],axis='columns')\n",
    "Y=df[\"Type of disease\"]\n",
    "print(y)\n"
   ]
  },
  {
   "cell_type": "code",
   "execution_count": 103,
   "metadata": {},
   "outputs": [],
   "source": [
    "from sklearn.impute import SimpleImputer\n",
    "import numpy as n\n",
    "im=SimpleImputer(missing_values='?',strategy=\"most_frequent\")\n",
    "h=y.reshape(-1,1)\n",
    "k=im.fit_transform(h)\n",
    "y=k.reshape(-1)\n",
    "X[\"Age\"]=y"
   ]
  },
  {
   "cell_type": "code",
   "execution_count": 128,
   "metadata": {},
   "outputs": [
    {
     "name": "stdout",
     "output_type": "stream",
     "text": [
      "['55' '8' '26' '40' '45' '41' '18' '57' '22' '30' '20' '21' '22' '10' '65'\n",
      " '40' '30' '38' '23' '17' '8' '51' '42' '44' '22' '33' '10' '17' '43' '50'\n",
      " '50' '10' '34' '40' '40' '40' '40' '15' '26' '46' '51' '62' '15' '35'\n",
      " '30' '48' '46' '12' '52' '60' '32' '35' '41' '48' '51' '19' '22' '29'\n",
      " '25' '33' '8' '40' '33' '42' '36' '60' '36' '21' '40' '21' '34' '13' '52'\n",
      " '48' '17' '25' '33' '62' '52' '27' '40' '31' '27' '10' '55' '30' '42'\n",
      " '48' '22' '31' '50' '43' '30' '42' '22' '18' '35' '60' '28' '13' '20'\n",
      " '64' '43' '20' '34' '39' '60' '38' '44' '36' '41' '18' '39' '40' '47'\n",
      " '16' '27' '52' '25' '0' '33' '46' '7' '30' '29' '23' '8' '44' '17' '16'\n",
      " '55' '40' '34' '29' '34' '25' '70' '37' '41' '32' '20' '19' '61' '27'\n",
      " '36' '40' '52' '27' '30' '45' '34' '27' '46' '52' '28' '40' '55' '32'\n",
      " '33' '47' '35' '61' '22' '10' '20' '55' '67' '51' '20' '22' '45' '55'\n",
      " '56' '18' '40' '30' '33' '40' '42' '36' '27' '56' '60' '20' '7' '30' '19'\n",
      " '52' '55' '23' '50' '38' '25' '18' '35' '22' '52' '50' '33' '44' '18'\n",
      " '25' '52' '35' '40' '55' '20' '60' '33' '27' '50' '70' '28' '30' '53'\n",
      " '27' '50' '42' '45' '35' '30' '42' '18' '25' '36' '40' '35' '19' '50'\n",
      " '47' '30' '42' '55' '60' '65' '47' '35' '52' '60' '7' '8' '25' '60' '50'\n",
      " '33' '27' '55' '62' '19' '50' '40' '62' '36' '27' '47' '50' '35' '25'\n",
      " '60' '22' '35' '36' '40' '40' '40' '40' '10' '12' '8' '35' '62' '48' '30'\n",
      " '57' '62' '36' '18' '25' '16' '50' '55' '27' '55' '22' '70' '22' '45'\n",
      " '40' '28' '36' '27' '42' '27' '50' '34' '8' '19' '36' '70' '52' '25' '36'\n",
      " '50' '34' '17' '24' '22' '55' '12' '43' '50' '36' '26' '16' '32' '51'\n",
      " '56' '47' '51' '58' '27' '32' '27' '62' '53' '46' '37' '49' '18' '46'\n",
      " '33' '22' '44' '36' '63' '56' '60' '42' '32' '51' '33' '68' '50' '9' '16'\n",
      " '35' '40' '22' '10' '7' '25' '9' '55' '45' '56' '36' '75' '45' '24' '40'\n",
      " '25' '25' '36' '28' '50' '35']\n"
     ]
    }
   ],
   "source": [
    "print(X.iloc[:,33].values)"
   ]
  },
  {
   "cell_type": "code",
   "execution_count": 129,
   "metadata": {},
   "outputs": [],
   "source": [
    "from sklearn.model_selection import train_test_split\n",
    "X_train,X_test,Y_train,Y_test=train_test_split(X,Y,test_size=0.3)"
   ]
  },
  {
   "cell_type": "code",
   "execution_count": 130,
   "metadata": {},
   "outputs": [
    {
     "data": {
      "text/plain": [
       "KNeighborsClassifier(algorithm='auto', leaf_size=30, metric='minkowski',\n",
       "                     metric_params=None, n_jobs=None, n_neighbors=7, p=2,\n",
       "                     weights='uniform')"
      ]
     },
     "execution_count": 130,
     "metadata": {},
     "output_type": "execute_result"
    }
   ],
   "source": [
    "from sklearn.neighbors import KNeighborsClassifier\n",
    "c=KNeighborsClassifier(n_neighbors=7)\n",
    "c.fit(X_train,Y_train)"
   ]
  },
  {
   "cell_type": "code",
   "execution_count": 131,
   "metadata": {},
   "outputs": [
    {
     "name": "stdout",
     "output_type": "stream",
     "text": [
      "[1 3 1 1 3 1 4 1 5 1 4 1 2 3 1 3 3 6 4 4 1 3 5 1 3 2 2 2 1 1 2 5 2 3 4 2 6\n",
      " 2 2 4 1 5 3 3 3 2 2 2 5 1 2 3 3 2 3 5 4 1 4 1 1 5 1 1 5 3 3 3 1 3 1 1 1 1\n",
      " 1 5 6 5 2 3 5 1 2 6 4 2 3 3 2 2 1 5 1 1 3 2 4 5 3 1 1 1 1 3 2 2 1 1 2 5]\n"
     ]
    }
   ],
   "source": [
    "Y_pre=c.predict(X_test)\n",
    "print(Y_pre)"
   ]
  },
  {
   "cell_type": "code",
   "execution_count": 133,
   "metadata": {},
   "outputs": [
    {
     "name": "stdout",
     "output_type": "stream",
     "text": [
      "train: %s, test: %s [  0   1   2   6   9  10  13  14  15  17  19  21  24  27  30  35  36  37\n",
      "  38  40  43  46  47  48  49  50  53  55  58  62  63  66  69  70  71  72\n",
      "  73  75  76  77  80  85  86  87  89  90  91  92  93  94  95  99 104 106\n",
      " 107 108 111 113 114 115 119 122 125 130 131 132 134 135 136 138 141 142\n",
      " 145 146 150 152 155 157 158 160 163 164 167 168 170 172 174 177 178 180\n",
      " 181 185 188 189 192 196 197 198 204 207 208 209 211 215 216 218 219 220\n",
      " 223 224 225 226 233 234 235 236 237 239 241 243 247 248 249 250 251 252\n",
      " 253 255] [  3   4   5   7   8  11  12  16  18  20  22  23  25  26  28  29  31  32\n",
      "  33  34  39  41  42  44  45  51  52  54  56  57  59  60  61  64  65  67\n",
      "  68  74  78  79  81  82  83  84  88  96  97  98 100 101 102 103 105 109\n",
      " 110 112 116 117 118 120 121 123 124 126 127 128 129 133 137 139 140 143\n",
      " 144 147 148 149 151 153 154 156 159 161 162 165 166 169 171 173 175 176\n",
      " 179 182 183 184 186 187 190 191 193 194 195 199 200 201 202 203 205 206\n",
      " 210 212 213 214 217 221 222 227 228 229 230 231 232 238 240 242 244 245\n",
      " 246 254]\n",
      "train: %s, test: %s [  3   4   5   7   8  11  12  16  18  20  22  23  25  26  28  29  31  32\n",
      "  33  34  39  41  42  44  45  51  52  54  56  57  59  60  61  64  65  67\n",
      "  68  74  78  79  81  82  83  84  88  96  97  98 100 101 102 103 105 109\n",
      " 110 112 116 117 118 120 121 123 124 126 127 128 129 133 137 139 140 143\n",
      " 144 147 148 149 151 153 154 156 159 161 162 165 166 169 171 173 175 176\n",
      " 179 182 183 184 186 187 190 191 193 194 195 199 200 201 202 203 205 206\n",
      " 210 212 213 214 217 221 222 227 228 229 230 231 232 238 240 242 244 245\n",
      " 246 254] [  0   1   2   6   9  10  13  14  15  17  19  21  24  27  30  35  36  37\n",
      "  38  40  43  46  47  48  49  50  53  55  58  62  63  66  69  70  71  72\n",
      "  73  75  76  77  80  85  86  87  89  90  91  92  93  94  95  99 104 106\n",
      " 107 108 111 113 114 115 119 122 125 130 131 132 134 135 136 138 141 142\n",
      " 145 146 150 152 155 157 158 160 163 164 167 168 170 172 174 177 178 180\n",
      " 181 185 188 189 192 196 197 198 204 207 208 209 211 215 216 218 219 220\n",
      " 223 224 225 226 233 234 235 236 237 239 241 243 247 248 249 250 251 252\n",
      " 253 255]\n"
     ]
    }
   ],
   "source": [
    "from sklearn.model_selection import KFold\n",
    "kf=KFold(2,True)\n",
    "for train,test in kf.split(X_train):\n",
    "    print('train: %s, test: %s',train,test)"
   ]
  },
  {
   "cell_type": "code",
   "execution_count": 122,
   "metadata": {},
   "outputs": [
    {
     "name": "stdout",
     "output_type": "stream",
     "text": [
      "[[30  0  0  0  1  2]\n",
      " [ 0 15  0  1  0  2]\n",
      " [ 0  1 22  0  0  0]\n",
      " [ 0  4  0 13  1  0]\n",
      " [ 0  1  0  0 14  0]\n",
      " [ 0  0  0  0  0  3]]\n",
      "accuracy: 0.8818181818181818\n",
      "              precision    recall  f1-score   support\n",
      "\n",
      "           1       1.00      0.91      0.95        33\n",
      "           2       0.71      0.83      0.77        18\n",
      "           3       1.00      0.96      0.98        23\n",
      "           4       0.93      0.72      0.81        18\n",
      "           5       0.88      0.93      0.90        15\n",
      "           6       0.43      1.00      0.60         3\n",
      "\n",
      "    accuracy                           0.88       110\n",
      "   macro avg       0.82      0.89      0.84       110\n",
      "weighted avg       0.91      0.88      0.89       110\n",
      "\n"
     ]
    }
   ],
   "source": [
    "from sklearn.metrics import confusion_matrix,accuracy_score,classification_report\n",
    "r2=accuracy_score(Y_test,Y_pre)\n",
    "r=confusion_matrix(Y_test,Y_pre)\n",
    "e3=classification_report(Y_test,Y_pre)\n",
    "print(r)\n",
    "print('accuracy:',r2)\n",
    "print(e3)"
   ]
  },
  {
   "cell_type": "code",
   "execution_count": null,
   "metadata": {},
   "outputs": [],
   "source": []
  }
 ],
 "metadata": {
  "kernelspec": {
   "display_name": "Python 3",
   "language": "python",
   "name": "python3"
  },
  "language_info": {
   "codemirror_mode": {
    "name": "ipython",
    "version": 3
   },
   "file_extension": ".py",
   "mimetype": "text/x-python",
   "name": "python",
   "nbconvert_exporter": "python",
   "pygments_lexer": "ipython3",
   "version": "3.7.6"
  }
 },
 "nbformat": 4,
 "nbformat_minor": 4
}
