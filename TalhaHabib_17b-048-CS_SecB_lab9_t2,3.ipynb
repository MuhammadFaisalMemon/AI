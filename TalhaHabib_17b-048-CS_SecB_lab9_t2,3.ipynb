{
 "cells": [
  {
   "cell_type": "code",
   "execution_count": 9,
   "metadata": {},
   "outputs": [],
   "source": [
    "import pandas as pg\n",
    "from sklearn.model_selection import train_test_split\n",
    "from sklearn.linear_model import LinearRegression\n",
    "from sklearn import metrics\n",
    "import matplotlib.pyplot as ply"
   ]
  },
  {
   "cell_type": "code",
   "execution_count": 35,
   "metadata": {},
   "outputs": [
    {
     "name": "stderr",
     "output_type": "stream",
     "text": [
      "E:\\andaconda\\lib\\site-packages\\IPython\\core\\interactiveshell.py:3063: DtypeWarning: Columns (7,8,18,25) have mixed types.Specify dtype option on import or set low_memory=False.\n",
      "  interactivity=interactivity, compiler=compiler, result=result)\n"
     ]
    }
   ],
   "source": [
    "##Task2\n",
    "da=pg.read_csv('C:\\\\Users\\\\Talha Habib\\\\Downloads\\\\Weather.csv')\n",
    "X=da.iloc[:,4].values\n",
    "Y=da.iloc[:,5].values\n",
    "##For Task 3\n",
    "y2=da['MinTemp']\n",
    "x2=da[['MaxTemp','MeanTemp']]"
   ]
  },
  {
   "cell_type": "code",
   "execution_count": 36,
   "metadata": {},
   "outputs": [],
   "source": [
    "\n",
    "x_tr,x_ts,y_tr,y_ts=train_test_split(X,Y,test_size=0.3)\n",
    "x2_tr,x2_ts,y2_tr,y2_ts=train_test_split(x2,y2,test_size=0.3)"
   ]
  },
  {
   "cell_type": "code",
   "execution_count": 37,
   "metadata": {},
   "outputs": [],
   "source": [
    "x_tr=x_tr.reshape(-1,1)\n",
    "y_tr=y_tr.reshape(-1,1)\n",
    "lr=LinearRegression()\n",
    "lr2=LinearRegression()\n",
    "a=lr.fit(x_tr,y_tr)\n",
    "b=lr2.fit(x2_tr,y2_tr)"
   ]
  },
  {
   "cell_type": "code",
   "execution_count": 38,
   "metadata": {},
   "outputs": [
    {
     "name": "stdout",
     "output_type": "stream",
     "text": [
      "[[20.26746265]\n",
      " [ 6.27935968]\n",
      " [23.99762344]\n",
      " ...\n",
      " [21.66627295]\n",
      " [20.73373275]\n",
      " [ 1.15038859]]\n",
      "[26.48551935 20.38504887 19.00822606 ... 21.58274994 14.10545663\n",
      " 19.97087899]\n"
     ]
    }
   ],
   "source": [
    "x_ts=x_ts.reshape(-1,1)\n",
    "y_p=a.predict(x_ts)\n",
    "y_pre2=b.predict(x2_ts)\n",
    "print(y_p)\n",
    "print(y_pre2)"
   ]
  },
  {
   "cell_type": "code",
   "execution_count": 39,
   "metadata": {},
   "outputs": [
    {
     "name": "stdout",
     "output_type": "stream",
     "text": [
      "Mean Absolute error 3.0994106505562735\n",
      "Mean squared error 15.769180687627337\n",
      "Root Mean squared error 3.9710427708131446\n"
     ]
    }
   ],
   "source": [
    "##Task2\n",
    "from  sklearn import metrics\n",
    "import numpy as n\n",
    "print(\"Mean Absolute error\",metrics.mean_absolute_error(y_ts,y_p))\n",
    "print(\"Mean squared error\",metrics.mean_squared_error(y_ts,y_p))\n",
    "print(\"Root Mean squared error\",n.sqrt(metrics.mean_squared_error(y_ts,y_p)))"
   ]
  },
  {
   "cell_type": "code",
   "execution_count": 40,
   "metadata": {},
   "outputs": [
    {
     "name": "stdout",
     "output_type": "stream",
     "text": [
      "Mean Absolute error 0.37179995460776216\n",
      "Mean squared error 1.33057993365128\n",
      "Root Mean squared error 1.153507665189651\n"
     ]
    }
   ],
   "source": [
    "##Task3\n",
    "print(\"Mean Absolute error\",metrics.mean_absolute_error(y2_ts,y_pre2))\n",
    "print(\"Mean squared error\",metrics.mean_squared_error(y2_ts,y_pre2))\n",
    "print(\"Root Mean squared error\",n.sqrt(metrics.mean_squared_error(y2_ts,y_pre2)))"
   ]
  },
  {
   "cell_type": "code",
   "execution_count": 41,
   "metadata": {},
   "outputs": [],
   "source": [
    "##IN task3 i have added meantemp column in my X variable and predicting Y with multi variable which is why  my model is having less meanabsoluteerror,mean square error and root mean sqared error "
   ]
  },
  {
   "cell_type": "code",
   "execution_count": 42,
   "metadata": {},
   "outputs": [
    {
     "data": {
      "image/png": "[encoded data removed]",
      "text/plain": [
       "<Figure size 432x288 with 1 Axes>"
      ]
     },
     "metadata": {
      "needs_background": "light"
     },
     "output_type": "display_data"
    }
   ],
   "source": [
    "x_ts=x_ts.reshape(-1,1)\n",
    "y_ts=y_ts.reshape(-1,1)\n",
    "ply.scatter(x_ts,y_ts,color='red')\n",
    "ply.plot(x_ts,y_p,color='blue')\n",
    "ply.title(\"Temperature\")\n",
    "ply.xlabel('MaxTemp')\n",
    "ply.ylabel('MinTemp')\n",
    "ply.show()"
   ]
  },
  {
   "cell_type": "code",
   "execution_count": 43,
   "metadata": {},
   "outputs": [
    {
     "name": "stdout",
     "output_type": "stream",
     "text": [
      "[26.48551935 20.38504887 19.00822606 ... 21.58274994 14.10545663\n",
      " 19.97087899]\n"
     ]
    }
   ],
   "source": [
    "\n",
    "print(y_pre2)"
   ]
  },
  {
   "cell_type": "code",
   "execution_count": 45,
   "metadata": {},
   "outputs": [
    {
     "ename": "AttributeError",
     "evalue": "'DataFrame' object has no attribute 'reshape'",
     "output_type": "error",
     "traceback": [
      "\u001b[1;31m---------------------------------------------------------------------------\u001b[0m",
      "\u001b[1;31mAttributeError\u001b[0m                            Traceback (most recent call last)",
      "\u001b[1;32m<ipython-input-45-a01a5bd0ab42>\u001b[0m in \u001b[0;36m<module>\u001b[1;34m\u001b[0m\n\u001b[1;32m----> 1\u001b[1;33m \u001b[0mx2_ts\u001b[0m\u001b[1;33m.\u001b[0m\u001b[0mreshape\u001b[0m\u001b[1;33m(\u001b[0m\u001b[1;33m-\u001b[0m\u001b[1;36m1\u001b[0m\u001b[1;33m,\u001b[0m\u001b[1;36m1\u001b[0m\u001b[1;33m)\u001b[0m\u001b[1;33m\u001b[0m\u001b[1;33m\u001b[0m\u001b[0m\n\u001b[0m\u001b[0;32m      2\u001b[0m \u001b[0mply\u001b[0m\u001b[1;33m.\u001b[0m\u001b[0mscatter\u001b[0m\u001b[1;33m(\u001b[0m\u001b[0mx2_ts\u001b[0m\u001b[1;33m,\u001b[0m\u001b[0my2_ts\u001b[0m\u001b[1;33m,\u001b[0m\u001b[0mcolor\u001b[0m\u001b[1;33m=\u001b[0m\u001b[1;34m'red'\u001b[0m\u001b[1;33m)\u001b[0m\u001b[1;33m\u001b[0m\u001b[1;33m\u001b[0m\u001b[0m\n\u001b[0;32m      3\u001b[0m \u001b[0mply\u001b[0m\u001b[1;33m.\u001b[0m\u001b[0mscatter\u001b[0m\u001b[1;33m(\u001b[0m\u001b[0mx2_ts\u001b[0m\u001b[1;33m,\u001b[0m\u001b[0my2_ts\u001b[0m\u001b[1;33m,\u001b[0m\u001b[0mcolor\u001b[0m\u001b[1;33m=\u001b[0m\u001b[1;34m'red'\u001b[0m\u001b[1;33m)\u001b[0m\u001b[1;33m\u001b[0m\u001b[1;33m\u001b[0m\u001b[0m\n\u001b[0;32m      4\u001b[0m \u001b[0mply\u001b[0m\u001b[1;33m.\u001b[0m\u001b[0mplot\u001b[0m\u001b[1;33m(\u001b[0m\u001b[0mx2_ts\u001b[0m\u001b[1;33m,\u001b[0m\u001b[0my_pre2\u001b[0m\u001b[1;33m,\u001b[0m\u001b[0mcolor\u001b[0m\u001b[1;33m=\u001b[0m\u001b[1;34m'blue'\u001b[0m\u001b[1;33m)\u001b[0m\u001b[1;33m\u001b[0m\u001b[1;33m\u001b[0m\u001b[0m\n\u001b[0;32m      5\u001b[0m \u001b[0mply\u001b[0m\u001b[1;33m.\u001b[0m\u001b[0mtitle\u001b[0m\u001b[1;33m(\u001b[0m\u001b[1;34m\"Temperature\"\u001b[0m\u001b[1;33m)\u001b[0m\u001b[1;33m\u001b[0m\u001b[1;33m\u001b[0m\u001b[0m\n",
      "\u001b[1;32mE:\\andaconda\\lib\\site-packages\\pandas\\core\\generic.py\u001b[0m in \u001b[0;36m__getattr__\u001b[1;34m(self, name)\u001b[0m\n\u001b[0;32m   5272\u001b[0m             \u001b[1;32mif\u001b[0m \u001b[0mself\u001b[0m\u001b[1;33m.\u001b[0m\u001b[0m_info_axis\u001b[0m\u001b[1;33m.\u001b[0m\u001b[0m_can_hold_identifiers_and_holds_name\u001b[0m\u001b[1;33m(\u001b[0m\u001b[0mname\u001b[0m\u001b[1;33m)\u001b[0m\u001b[1;33m:\u001b[0m\u001b[1;33m\u001b[0m\u001b[1;33m\u001b[0m\u001b[0m\n\u001b[0;32m   5273\u001b[0m                 \u001b[1;32mreturn\u001b[0m \u001b[0mself\u001b[0m\u001b[1;33m[\u001b[0m\u001b[0mname\u001b[0m\u001b[1;33m]\u001b[0m\u001b[1;33m\u001b[0m\u001b[1;33m\u001b[0m\u001b[0m\n\u001b[1;32m-> 5274\u001b[1;33m             \u001b[1;32mreturn\u001b[0m \u001b[0mobject\u001b[0m\u001b[1;33m.\u001b[0m\u001b[0m__getattribute__\u001b[0m\u001b[1;33m(\u001b[0m\u001b[0mself\u001b[0m\u001b[1;33m,\u001b[0m \u001b[0mname\u001b[0m\u001b[1;33m)\u001b[0m\u001b[1;33m\u001b[0m\u001b[1;33m\u001b[0m\u001b[0m\n\u001b[0m\u001b[0;32m   5275\u001b[0m \u001b[1;33m\u001b[0m\u001b[0m\n\u001b[0;32m   5276\u001b[0m     \u001b[1;32mdef\u001b[0m \u001b[0m__setattr__\u001b[0m\u001b[1;33m(\u001b[0m\u001b[0mself\u001b[0m\u001b[1;33m,\u001b[0m \u001b[0mname\u001b[0m\u001b[1;33m:\u001b[0m \u001b[0mstr\u001b[0m\u001b[1;33m,\u001b[0m \u001b[0mvalue\u001b[0m\u001b[1;33m)\u001b[0m \u001b[1;33m->\u001b[0m \u001b[1;32mNone\u001b[0m\u001b[1;33m:\u001b[0m\u001b[1;33m\u001b[0m\u001b[1;33m\u001b[0m\u001b[0m\n",
      "\u001b[1;31mAttributeError\u001b[0m: 'DataFrame' object has no attribute 'reshape'"
     ]
    }
   ],
   "source": [
    "x2_ts.reshape(-1,1)\n",
    "ply.scatter(x2_ts,y2_ts,color='red')\n",
    "ply.scatter(x2_ts,y2_ts,color='red')\n",
    "ply.plot(x2_ts,y_pre2,color='blue')\n",
    "ply.title(\"Temperature\")\n",
    "ply.xlabel('MaxTemp')\n",
    "ply.ylabel('MinTemp')\n",
    "ply.show()"
   ]
  },
  {
   "cell_type": "code",
   "execution_count": null,
   "metadata": {},
   "outputs": [],
   "source": []
  },
  {
   "cell_type": "code",
   "execution_count": null,
   "metadata": {},
   "outputs": [],
   "source": []
  }
 ],
 "metadata": {
  "kernelspec": {
   "display_name": "Python 3",
   "language": "python",
   "name": "python3"
  },
  "language_info": {
   "codemirror_mode": {
    "name": "ipython",
    "version": 3
   },
   "file_extension": ".py",
   "mimetype": "text/x-python",
   "name": "python",
   "nbconvert_exporter": "python",
   "pygments_lexer": "ipython3",
   "version": "3.7.6"
  }
 },
 "nbformat": 4,
 "nbformat_minor": 4
}
